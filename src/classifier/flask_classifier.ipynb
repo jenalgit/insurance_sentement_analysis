{
 "cells": [
  {
   "cell_type": "code",
   "execution_count": 2,
   "metadata": {
    "collapsed": false
   },
   "outputs": [],
   "source": [
    "import pandas as pd\n",
    "from flask import Flask, abort, jsonify, request\n",
    "from sklearn.externals import joblib"
   ]
  },
  {
   "cell_type": "code",
   "execution_count": 3,
   "metadata": {
    "collapsed": true
   },
   "outputs": [],
   "source": [
    "#load vectorizer and classifier\n",
    "vectorizer = joblib.load(\"vectorizer.joblib\")\n",
    "clf = joblib.load(\"bayes_classifier.joblib\")"
   ]
  },
  {
   "cell_type": "code",
   "execution_count": 4,
   "metadata": {
    "collapsed": true
   },
   "outputs": [],
   "source": [
    "def clean_tweets(x):\n",
    "    x = x.lower()  #lowercase everything\n",
    "    x = re.sub('@[a-z_-]+',\"\",x) #remove handles\n",
    "    x = re.sub('[0-9]+',\"\",x)  #remove numbers\n",
    "    x = re.sub('(https?):\\/\\/(www\\.)?[a-z0-9\\.:].*?(?=\\s)', \"\",x) #remove urls\n",
    "    x = re.sub('&[a-z]+','',x)  #remove html punctuations &amp, etc...\n",
    "    return x"
   ]
  },
  {
   "cell_type": "code",
   "execution_count": 5,
   "metadata": {
    "collapsed": true
   },
   "outputs": [],
   "source": [
    "app = Flask(__name__)\n",
    "\n",
    "@app.route('/api', methods=['POST'])\n",
    "def make_predict():\n",
    "    #all kinds of error checking should go here\n",
    "    data = request.get_json(force=True)\n",
    "    print(data)\n",
    "    #convert our json to a numpy array\n",
    "    #predict_request = [data['sl'],data['sw'],data['pl'], data['pw']] \n",
    "    #predict_request = np.array(predict_request)\n",
    "    #np array goes into random forest, prediction comes out\n",
    "    #y_hat = my_random_forest.predict(predict_request)\n",
    "    #return our prediction\n",
    "    #output = [y_hat[0]]\n",
    "    #return jsonify(results=output)"
   ]
  },
  {
   "cell_type": "code",
   "execution_count": 6,
   "metadata": {
    "collapsed": false
   },
   "outputs": [
    {
     "ename": "SystemExit",
     "evalue": "1",
     "output_type": "error",
     "traceback": [
      "An exception has occurred, use %tb to see the full traceback.\n",
      "\u001b[1;31mSystemExit\u001b[0m\u001b[1;31m:\u001b[0m 1\n"
     ]
    },
    {
     "name": "stderr",
     "output_type": "stream",
     "text": [
      "To exit: use 'exit', 'quit', or Ctrl-D.\n"
     ]
    }
   ],
   "source": [
    "if __name__ == '__main__':\n",
    "    app.run(port = 9000, debug = True)"
   ]
  },
  {
   "cell_type": "code",
   "execution_count": null,
   "metadata": {
    "collapsed": true
   },
   "outputs": [],
   "source": []
  }
 ],
 "metadata": {
  "kernelspec": {
   "display_name": "Python 3",
   "language": "python",
   "name": "python3"
  },
  "language_info": {
   "codemirror_mode": {
    "name": "ipython",
    "version": 3
   },
   "file_extension": ".py",
   "mimetype": "text/x-python",
   "name": "python",
   "nbconvert_exporter": "python",
   "pygments_lexer": "ipython3",
   "version": "3.5.1"
  }
 },
 "nbformat": 4,
 "nbformat_minor": 0
}
