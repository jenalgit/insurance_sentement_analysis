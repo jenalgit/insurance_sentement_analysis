{
 "cells": [
  {
   "cell_type": "code",
   "execution_count": 3,
   "metadata": {
    "collapsed": false
   },
   "outputs": [],
   "source": [
    "import tweepy\n",
    "import auth"
   ]
  },
  {
   "cell_type": "code",
   "execution_count": 4,
   "metadata": {
    "collapsed": false
   },
   "outputs": [],
   "source": [
    "auth = tweepy.OAuthHandler(auth.consumer_key, auth.consumer_secret)"
   ]
  },
  {
   "cell_type": "code",
   "execution_count": 5,
   "metadata": {
    "collapsed": false
   },
   "outputs": [
    {
     "name": "stdout",
     "output_type": "stream",
     "text": [
      "https://api.twitter.com/oauth/authorize?oauth_token=w8KdPwAAAAAAj7ZzAAABUlweFGM\n"
     ]
    }
   ],
   "source": [
    "try:\n",
    "    redirect_url = auth.get_authorization_url()\n",
    "except tweepy.TweepError:\n",
    "    print 'Error! Failed to get request token.'\n",
    "    \n",
    "print redirect_url"
   ]
  },
  {
   "cell_type": "code",
   "execution_count": 6,
   "metadata": {
    "collapsed": false
   },
   "outputs": [
    {
     "name": "stdout",
     "output_type": "stream",
     "text": [
      "Verifier:6365347\n"
     ]
    }
   ],
   "source": [
    "# Example w/o callback (desktop)\n",
    "verifier = raw_input('Verifier:')"
   ]
  },
  {
   "cell_type": "code",
   "execution_count": 7,
   "metadata": {
    "collapsed": false
   },
   "outputs": [],
   "source": [
    "auth_access_token , auth_access_token_secret = auth.get_access_token(verifier)"
   ]
  },
  {
   "cell_type": "code",
   "execution_count": 8,
   "metadata": {
    "collapsed": false
   },
   "outputs": [
    {
     "data": {
      "text/plain": [
       "u'15231845-geSG3NDhrZA3xTXMtJPHUgDybxn7kdu4RkerIBwvz'"
      ]
     },
     "execution_count": 8,
     "metadata": {},
     "output_type": "execute_result"
    }
   ],
   "source": [
    "auth_access_token"
   ]
  },
  {
   "cell_type": "code",
   "execution_count": 9,
   "metadata": {
    "collapsed": false
   },
   "outputs": [
    {
     "data": {
      "text/plain": [
       "u'Ftt3LKGKhpXnVLL7rAdlcc4bxNPkCNOYwYeNm4bEjatmA'"
      ]
     },
     "execution_count": 9,
     "metadata": {},
     "output_type": "execute_result"
    }
   ],
   "source": [
    "auth_access_token_secret"
   ]
  },
  {
   "cell_type": "code",
   "execution_count": 10,
   "metadata": {
    "collapsed": false
   },
   "outputs": [
    {
     "ename": "KeyError",
     "evalue": "'oauth_token'",
     "output_type": "error",
     "traceback": [
      "\u001b[1;31m---------------------------------------------------------------------------\u001b[0m",
      "\u001b[1;31mKeyError\u001b[0m                                  Traceback (most recent call last)",
      "\u001b[1;32m<ipython-input-10-901f883fd609>\u001b[0m in \u001b[0;36m<module>\u001b[1;34m()\u001b[0m\n\u001b[0;32m     15\u001b[0m \u001b[1;33m\u001b[0m\u001b[0m\n\u001b[0;32m     16\u001b[0m \u001b[0mrequest_token\u001b[0m \u001b[1;33m=\u001b[0m \u001b[0mdict\u001b[0m\u001b[1;33m(\u001b[0m\u001b[0murlparse\u001b[0m\u001b[1;33m.\u001b[0m\u001b[0mparse_qsl\u001b[0m\u001b[1;33m(\u001b[0m\u001b[0mcontent\u001b[0m\u001b[1;33m)\u001b[0m\u001b[1;33m)\u001b[0m\u001b[1;33m\u001b[0m\u001b[0m\n\u001b[1;32m---> 17\u001b[1;33m \u001b[0moauthToken\u001b[0m \u001b[1;33m=\u001b[0m \u001b[0mrequest_token\u001b[0m\u001b[1;33m[\u001b[0m\u001b[1;34m'oauth_token'\u001b[0m\u001b[1;33m]\u001b[0m\u001b[1;33m\u001b[0m\u001b[0m\n\u001b[0m\u001b[0;32m     18\u001b[0m \u001b[0moauthSecret\u001b[0m \u001b[1;33m=\u001b[0m \u001b[0mrequest_token\u001b[0m\u001b[1;33m[\u001b[0m\u001b[1;34m'oauth_token_secret'\u001b[0m\u001b[1;33m]\u001b[0m\u001b[1;33m\u001b[0m\u001b[0m\n\u001b[0;32m     19\u001b[0m \u001b[1;33m\u001b[0m\u001b[0m\n",
      "\u001b[1;31mKeyError\u001b[0m: 'oauth_token'"
     ]
    }
   ],
   "source": [
    "import oauth2\n",
    "import urlparse\n",
    " \n",
    " \n",
    "REQUEST_TOKEN_URL = 'http://www.tumblr.com/oauth/request_token'\n",
    "AUTHORIZATION_URL = 'http://www.tumblr.com/oauth/authorize'\n",
    "ACCESS_TOKEN_URL = 'http://www.tumblr.com/oauth/access_token'\n",
    "CONSUMER_KEY = 'j1vXcWHnLe5LnhT8aLh1GHTh3'\n",
    "CONSUMER_SECRET = 'SvGIDO6DSBdF9pIwVzBFLxWC60KS340WTyoSo4dBL5SCl8TOpi'\n",
    " \n",
    "consumer = oauth2.Consumer(CONSUMER_KEY, CONSUMER_SECRET)\n",
    "client = oauth2.Client(consumer)\n",
    " \n",
    "resp, content = client.request(REQUEST_TOKEN_URL, \"GET\")\n",
    " \n",
    "request_token = dict(urlparse.parse_qsl(content))\n",
    "oauthToken = request_token['oauth_token']\n",
    "oauthSecret = request_token['oauth_token_secret']\n",
    " \n",
    "print \"Go to the following link in your browser:\"\n",
    "print \"%s?oauth_token=%s\" % (AUTHORIZATION_URL, oauthToken)\n",
    "print\n",
    " \n",
    "accepted = 'n'\n",
    "while accepted.lower() == 'n':\n",
    "        accepted = raw_input('Have you authorized me? (y/n) ')\n",
    "        oauth_verifier = raw_input('What is the PIN? ').strip()\n",
    " \n",
    "token = oauth2.Token(request_token['oauth_token'],\n",
    "        request_token['oauth_token_secret'])\n",
    " \n",
    "token.set_verifier(oauth_verifier)\n",
    "client = oauth2.Client(consumer, token)\n",
    " \n",
    "resp, content = client.request(ACCESS_TOKEN_URL, \"POST\")\n",
    "access_token = dict(urlparse.parse_qsl(content))\n",
    " \n",
    "print \"Access Token:\"\n",
    "print \"    - oauth_token        = %s\" % access_token['oauth_token']\n",
    "print \"    - oauth_token_secret = %s\" % access_token['oauth_token_secret']\n",
    "print\n",
    "print \"You may now access protected resources using the access tokens above.\"\n",
    "print"
   ]
  },
  {
   "cell_type": "code",
   "execution_count": null,
   "metadata": {
    "collapsed": true
   },
   "outputs": [],
   "source": []
  }
 ],
 "metadata": {
  "kernelspec": {
   "display_name": "Python 2",
   "language": "python",
   "name": "python2"
  },
  "language_info": {
   "codemirror_mode": {
    "name": "ipython",
    "version": 2
   },
   "file_extension": ".py",
   "mimetype": "text/x-python",
   "name": "python",
   "nbconvert_exporter": "python",
   "pygments_lexer": "ipython2",
   "version": "2.7.11"
  }
 },
 "nbformat": 4,
 "nbformat_minor": 0
}
