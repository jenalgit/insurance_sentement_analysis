{
 "cells": [
  {
   "cell_type": "code",
   "execution_count": 61,
   "metadata": {},
   "outputs": [],
   "source": [
    "#tweepy and auth are for twitter.  Don't check in auth\n",
    "import tweepy\n",
    "import auth\n",
    "\n",
    "import os\n",
    "import pandas as pd\n",
    "import datetime\n",
    "import time\n",
    "import numpy as np\n",
    "\n",
    "#needed for plotly visualization\n",
    "from plotly.offline import plot\n",
    "import plotly.graph_objs as go\n",
    "\n",
    "#sending requests\n",
    "import json\n",
    "import requests"
   ]
  },
  {
   "cell_type": "code",
   "execution_count": 4,
   "metadata": {},
   "outputs": [],
   "source": [
    "auth_handle = tweepy.OAuthHandler(auth.consumer_key, auth.consumer_secret)\n",
    "auth_handle.set_access_token(auth.access_token, auth.access_token_secret)\n",
    "api = tweepy.API(auth_handle)"
   ]
  },
  {
   "cell_type": "code",
   "execution_count": 5,
   "metadata": {},
   "outputs": [],
   "source": [
    "def get_tweets(handle_list, tweet_count):\n",
    "    \"\"\"\n",
    "    returns top x tweets for all handles in a list\n",
    "    handle_list = list of handles\n",
    "    tweet_count = how many tweets to get\n",
    "    \"\"\"\n",
    "    results = {}\n",
    "    for handle in handle_list:\n",
    "        results[handle] = [item.text for item in api.search(to=handle, count=tweet_count)]\n",
    "    return results"
   ]
  },
  {
   "cell_type": "code",
   "execution_count": 7,
   "metadata": {},
   "outputs": [],
   "source": [
    "def store_scores(scores):\n",
    "    \"\"\"\n",
    "    This method will take the timestamped scores from the classifier and store/manage them in a dataframe\n",
    "    \"\"\"\n",
    "    #if a score file exists, append to it\n",
    "    if os.path.isfile(\"scores.csv\"):\n",
    "        score_df = pd.read_csv(\"scores.csv\", index_col='time')\n",
    "        #create a df, using only the new score and append to the existing df\n",
    "        new_score_df = pd.DataFrame([scores])\n",
    "        new_score_df = new_score_df.set_index('time')\n",
    "        score_df = score_df.append(new_score_df)\n",
    "        #then save\n",
    "        #print (score_df)\n",
    "        score_df.to_csv(\"scores.csv\")            \n",
    "    else: \n",
    "        #otherwise we'll just create a new df with the current entry\n",
    "        score_df = pd.DataFrame([scores])\n",
    "        score_df = score_df.set_index('time')\n",
    "        score_df.to_csv(\"scores.csv\")\n",
    "        \n",
    "    return score_df"
   ]
  },
  {
   "cell_type": "code",
   "execution_count": 79,
   "metadata": {},
   "outputs": [],
   "source": [
    "def classify_bulk_tweets(tweet_dict):\n",
    "    \"\"\"\n",
    "    TODO\n",
    "    \"\"\"\n",
    "    import random\n",
    "    scores = {}\n",
    "    \n",
    "    #timestamp for the score, will become a dataframe index.\n",
    "    score_time = datetime.datetime.now()\n",
    "    scores['time'] = str(score_time)\n",
    "    \n",
    "    for key in tweet_dict.keys():\n",
    "        mean_value=0\n",
    "        tweets = tweet_dict[key]\n",
    "        \n",
    "        # format our json message\n",
    "        tweet_list = [{\"text\":item} for item in tweets]\n",
    "        json_data = {\"tweets\":tweet_list} \n",
    "        # send request\n",
    "        r = requests.post(\"http://127.0.0.1:7000/api\", json=json_data)\n",
    "        classifier_results = r.json()\n",
    "        # compute the mean value\n",
    "        mean_value = np.array([value for value in classifier_results['results'].values()]).mean()\n",
    "        scores[key] = mean_value\n",
    "    return scores"
   ]
  },
  {
   "cell_type": "code",
   "execution_count": 8,
   "metadata": {},
   "outputs": [],
   "source": [
    "def update_graph(scores_df):\n",
    "    data = [go.Scatter(x=scores_df.index, y=scores_df['allstate'], name=\"Allstate\"),\n",
    "            go.Scatter(x=scores_df.index, y=scores_df['geico'], name=\"Geico\"),\n",
    "            go.Scatter(x=scores_df.index, y=scores_df['progressive'], name=\"Progressive\"),\n",
    "            go.Scatter(x=scores_df.index, y=scores_df['statefarm'], name=\"State Farm\"),\n",
    "            go.Scatter(x=scores_df.index, y=scores_df['usaa'], name=\"USAA\"),\n",
    "            go.Scatter(x=scores_df.index, y=scores_df['wearefarmers'], name=\"Farmers\"),\n",
    "            ]\n",
    "    \n",
    "    layout = go.Layout(title=\"Customer Sentiment Towards Top 6 Auto Insurance Companies\",\n",
    "                   xaxis=dict(title=\"Time\"),\n",
    "                   yaxis=dict(title=\"Customer Sentement\")\n",
    "              )\n",
    "\n",
    "    fig = go.Figure(data=data, layout=layout)\n",
    "    \n",
    "    plot(fig, link_text=\"\", filename=\"plot.html\", auto_open=False)"
   ]
  },
  {
   "cell_type": "code",
   "execution_count": 9,
   "metadata": {},
   "outputs": [],
   "source": [
    "def runLoop():\n",
    "    top6 = ['statefarm', 'geico', 'allstate', 'progressive', 'wearefarmers', 'usaa' ]\n",
    "    #get twitter data from top 6\n",
    "    results = get_tweets(top6, 10)\n",
    "\n",
    "    #classify\n",
    "    scores = classify_bulk_tweets(results)\n",
    "    #store scores and get dataframe\n",
    "    scores_df = store_scores(scores)\n",
    "    #graph scores\n",
    "    update_graph(scores_df)"
   ]
  },
  {
   "cell_type": "code",
   "execution_count": 82,
   "metadata": {},
   "outputs": [],
   "source": [
    "def __main__():\n",
    "    while True:\n",
    "        try:\n",
    "            runLoop()\n",
    "            time.sleep(60) \n",
    "        except KeyboardInterrupt:\n",
    "            print (\"Manual Break by User\")\n",
    "            return"
   ]
  },
  {
   "cell_type": "code",
   "execution_count": 83,
   "metadata": {},
   "outputs": [
    {
     "name": "stdout",
     "output_type": "stream",
     "text": [
      "{'tweets': [{'text': '@usaa, other major #insurance firms to embrace #wearables in next 5 yrs: https://t.co/W2WubGtBqy @forbes #PAWWorkforce #peopleanalytics'}, {'text': '@USAA Please give us a place to deposit cash. There are hardly any cash depo machines in the country. Thx'}, {'text': '@USAA is a very good friend of mine'}, {'text': \"@USAA Unacceptable. I get a text about a fraud alert. Hundreds of dollars stolen from me and I'm told to wait over an hour on the phone?\"}, {'text': '@USAA @USAA_help Fraud dept has a 3hr hold time!  Help!'}, {'text': \"@USAA Any reason why USAA debit cards still don't have chips? Also, what's the hold up with @SamsungPayUS?\"}, {'text': \"@USAA &amp; @turbotax ... I love you both, but I think it's lousy how you both take the same exact fee off my tax return for e-filing. Not cool.\"}, {'text': \"@USAA @FoxNews You know things are bad when you end 15year relationship, transfer all your assets to another bank&amp;USAArep doesn't even ask.\"}, {'text': '@USAA you are crooks. You care little about your customers. \\n\\nWorst bank experience in my life.'}, {'text': '@USAA very surprised by the terrible service I just received over the phone.  Not typical of USAA.'}]}\n",
      "{'tweets': [{'text': '@StateFarm are you serious? Just straight up ignoring me?'}, {'text': '@StateFarm lost the business card from the recruiter with the party info.  Where/when is it again?'}, {'text': '@StateFarm: \"You ain\\'t got no rings.\" LOL 🏀'}, {'text': '@StateFarm \"ring\" commercial with Jordan and Garnett as the parents is pretty great'}, {'text': '@StateFarm how about avoid dangerous intersections?'}, {'text': '@StateFarm blocked, because your ad bucks are going towards @twitter political censorship agenda of Republicans'}, {'text': '@StateFarm was back in 2014, just the more we thought about it the more it made NO sense. Our rep is Edwin Young lll Cincinnati,no answers'}, {'text': '@StateFarm let me show you who you are putting in harms way by denying my flood claim. @oliviamunn @AaronRodgers12 https://t.co/JJN6SPivH0'}, {'text': '@StateFarm can you stop fucking changing my policy WITHOUT TELLING ME?! Every other week with you idiots!'}, {'text': \"@StateFarm how often do random people call you and ask what you're wearing?\"}]}\n",
      "{'tweets': [{'text': '@WeAreFarmers place your mobile app in a top 5 app list rate $ 100 million per placement'}, {'text': \"@WeAreFarmers @WLFHNTER do NOT go w/Farmers. We've been paying for 20 yrs, filed 1 small claim, got denied. Useless company.\"}, {'text': '@WeAreFarmers We filed one small claim in 20 years and it got denied. What are we paying insurance for?'}, {'text': '@WeAreFarmers @CoolTurtlesPoop I agree.'}, {'text': '@WeAreFarmers, love love love the deer in lights commercial'}, {'text': \"@WeAreFarmers Dishonesty &amp;  attitude of adjuster terrible. Let's see if FB/Twitter/Yelp/Snapchat helps get 100 people to drop you in 5 days\"}, {'text': '@WeAreFarmers terrible customer service'}, {'text': '@WeAreFarmers thanks for the acknowledgement. @StateFarm ignored my similar post. If I ever need insurance, Farmers it is!'}, {'text': \"@WeAreFarmers after these are placed on our vehicles, they end up on the street as liter. Let's keep it clean. https://t.co/ivzoqxjbCm\"}, {'text': \"@WeAreFarmers if ms cody followed nancy's example - she should be at home taking care of her man's babies ... https://t.co/49jDPci7lh\"}]}\n",
      "{'tweets': [{'text': '@Allstate I belive Allstate owes me money. I switched to Geico and saved lots of money'}, {'text': '@Allstate need mobile app pr my rates are $ 100 million per placement'}, {'text': '@Allstate \\nWhat, will this work for us?\\nDo you want to stay engaged?'}, {'text': '@Allstate #RealityRides pit stops in #Miami for #CalleOcho2016! Come try out the simulator! https://t.co/W49dobLNXK'}, {'text': '@Allstate blocked, because your ad bucks are going towards @twitter political censorship agenda.'}, {'text': '@Allstate \"Hope &amp; Change\" run out of electricity?!'}, {'text': \"@Allstate DST is not needed...you can't change time.\"}, {'text': '@Allstate sponsoring https://t.co/vs5hEFRI4T would enhance your image as being part of the solution https://t.co/W2OEztQMrD'}, {'text': \"@Allstate Claim rate insurance? Really? Now we have to pay for the incidentals of the accidentals? To me seems if we're paying for greed!\"}, {'text': '@Allstate is srsly amazing.'}]}\n",
      "{'tweets': [{'text': \"@GEICO Made an ad about how they're going to skip their own ad so I can watch my video. gg, geico. gg.\"}, {'text': '@GEICO hella lying ass, more like I spent 30% or more by switching to Geico...'}, {'text': '@GEICO @Allstate @Progressive @StateFarm @esurance did you submit underwriting to State that Ubers are ineligible? https://t.co/QCu5UV66h0'}, {'text': '@GEICO #AlumniDiscount'}, {'text': \"@GEICO ...why didn't you have Tarzan just _write it down_?\\n\\nBecause he would have...\\nDidn't know how to talk words...\"}, {'text': '@GEICO Tarzan is Lord of the Jungle. The Lion is King of the Jungle.'}, {'text': \"@GEICO 's customer service. So good I could cry 😭😭\"}, {'text': '@GEICO too many commercials on youtube makes me not want to ever deal with you for insurance'}, {'text': '@GEICO what the hell is a \"fact-laden truth\"???  Are facts not already true??  #badadvertising'}, {'text': '@GEICO Thanks for more commercial free @robinlundberg Keep it going'}]}\n",
      "{'tweets': [{'text': '@Progressive waited over 20 min on hold today to try to bundle auto + property... What gives? You want to sell or not'}, {'text': '@Progressive a woman named Octavia helped me get insurance through the 1-800 line yesterday and she was fantastic, give her a raise'}, {'text': '@progressive Join us, together we’ll #MakeEmailMarketingGreatAgain 🎆 https://t.co/gJhB0Uxpdf'}, {'text': '@Progressive https://t.co/xyZcNGnqfc'}, {'text': '@Progressive wow sad to hear  that you are in bed with George soros.'}, {'text': '@Progressive Customer Service in trying to make a payment online and by phone but both systems are down... https://t.co/VnWc7EKe1a'}, {'text': '@Progressive thank you for taking money out of my account, making me wait 10 days for a refund, then not sending when you said you would.'}, {'text': '@Progressive\\ninFutureWherePublicTransportationWillBeWellDevelopedAndPrivateCarsWillBeAutomaticallyDriven,ThereWillBeNoNeed4AutoInsurance.'}, {'text': '@PROGRESSIVE WHEN is it okay to leave a child on side of the road? apparently when  you are a progressive claims  adjuster'}, {'text': '@Progressive sooo do all your member have to wait 3 hours in the middle of the street and pay for their own tow #poorcustomers'}]}\n",
      "{'tweets': [{'text': '@usaa, other major #insurance firms to embrace #wearables in next 5 yrs: https://t.co/W2WubGtBqy @forbes #PAWWorkforce #peopleanalytics'}, {'text': '@USAA Please give us a place to deposit cash. There are hardly any cash depo machines in the country. Thx'}, {'text': '@USAA is a very good friend of mine'}, {'text': \"@USAA Unacceptable. I get a text about a fraud alert. Hundreds of dollars stolen from me and I'm told to wait over an hour on the phone?\"}, {'text': '@USAA @USAA_help Fraud dept has a 3hr hold time!  Help!'}, {'text': \"@USAA Any reason why USAA debit cards still don't have chips? Also, what's the hold up with @SamsungPayUS?\"}, {'text': \"@USAA &amp; @turbotax ... I love you both, but I think it's lousy how you both take the same exact fee off my tax return for e-filing. Not cool.\"}, {'text': \"@USAA @FoxNews You know things are bad when you end 15year relationship, transfer all your assets to another bank&amp;USAArep doesn't even ask.\"}, {'text': '@USAA you are crooks. You care little about your customers. \\n\\nWorst bank experience in my life.'}, {'text': '@USAA very surprised by the terrible service I just received over the phone.  Not typical of USAA.'}]}\n",
      "{'tweets': [{'text': '@StateFarm are you serious? Just straight up ignoring me?'}, {'text': '@StateFarm lost the business card from the recruiter with the party info.  Where/when is it again?'}, {'text': '@StateFarm: \"You ain\\'t got no rings.\" LOL 🏀'}, {'text': '@StateFarm \"ring\" commercial with Jordan and Garnett as the parents is pretty great'}, {'text': '@StateFarm how about avoid dangerous intersections?'}, {'text': '@StateFarm blocked, because your ad bucks are going towards @twitter political censorship agenda of Republicans'}, {'text': '@StateFarm was back in 2014, just the more we thought about it the more it made NO sense. Our rep is Edwin Young lll Cincinnati,no answers'}, {'text': '@StateFarm let me show you who you are putting in harms way by denying my flood claim. @oliviamunn @AaronRodgers12 https://t.co/JJN6SPivH0'}, {'text': '@StateFarm can you stop fucking changing my policy WITHOUT TELLING ME?! Every other week with you idiots!'}, {'text': \"@StateFarm how often do random people call you and ask what you're wearing?\"}]}\n",
      "{'tweets': [{'text': '@WeAreFarmers place your mobile app in a top 5 app list rate $ 100 million per placement'}, {'text': \"@WeAreFarmers @WLFHNTER do NOT go w/Farmers. We've been paying for 20 yrs, filed 1 small claim, got denied. Useless company.\"}, {'text': '@WeAreFarmers We filed one small claim in 20 years and it got denied. What are we paying insurance for?'}, {'text': '@WeAreFarmers @CoolTurtlesPoop I agree.'}, {'text': '@WeAreFarmers, love love love the deer in lights commercial'}, {'text': \"@WeAreFarmers Dishonesty &amp;  attitude of adjuster terrible. Let's see if FB/Twitter/Yelp/Snapchat helps get 100 people to drop you in 5 days\"}, {'text': '@WeAreFarmers terrible customer service'}, {'text': '@WeAreFarmers thanks for the acknowledgement. @StateFarm ignored my similar post. If I ever need insurance, Farmers it is!'}, {'text': \"@WeAreFarmers after these are placed on our vehicles, they end up on the street as liter. Let's keep it clean. https://t.co/ivzoqxjbCm\"}, {'text': \"@WeAreFarmers if ms cody followed nancy's example - she should be at home taking care of her man's babies ... https://t.co/49jDPci7lh\"}]}\n",
      "{'tweets': [{'text': '@Allstate I belive Allstate owes me money. I switched to Geico and saved lots of money'}, {'text': '@Allstate need mobile app pr my rates are $ 100 million per placement'}, {'text': '@Allstate \\nWhat, will this work for us?\\nDo you want to stay engaged?'}, {'text': '@Allstate #RealityRides pit stops in #Miami for #CalleOcho2016! Come try out the simulator! https://t.co/W49dobLNXK'}, {'text': '@Allstate blocked, because your ad bucks are going towards @twitter political censorship agenda.'}, {'text': '@Allstate https://t.co/DeMpQF9Qpf'}, {'text': '@Allstate \"Hope &amp; Change\" run out of electricity?!'}, {'text': \"@Allstate DST is not needed...you can't change time.\"}, {'text': '@Allstate sponsoring https://t.co/vs5hEFRI4T would enhance your image as being part of the solution https://t.co/W2OEztQMrD'}, {'text': \"@Allstate Claim rate insurance? Really? Now we have to pay for the incidentals of the accidentals? To me seems if we're paying for greed!\"}]}\n",
      "{'tweets': [{'text': \"@GEICO Made an ad about how they're going to skip their own ad so I can watch my video. gg, geico. gg.\"}, {'text': '@GEICO hella lying ass, more like I spent 30% or more by switching to Geico...'}, {'text': '@GEICO @Allstate @Progressive @StateFarm @esurance did you submit underwriting to State that Ubers are ineligible? https://t.co/QCu5UV66h0'}, {'text': '@GEICO #AlumniDiscount'}, {'text': \"@GEICO ...why didn't you have Tarzan just _write it down_?\\n\\nBecause he would have...\\nDidn't know how to talk words...\"}, {'text': '@GEICO Tarzan is Lord of the Jungle. The Lion is King of the Jungle.'}, {'text': \"@GEICO 's customer service. So good I could cry 😭😭\"}, {'text': '@GEICO too many commercials on youtube makes me not want to ever deal with you for insurance'}, {'text': '@GEICO what the hell is a \"fact-laden truth\"???  Are facts not already true??  #badadvertising'}, {'text': '@GEICO Thanks for more commercial free @robinlundberg Keep it going'}]}\n",
      "{'tweets': [{'text': '@Progressive waited over 20 min on hold today to try to bundle auto + property... What gives? You want to sell or not'}, {'text': '@Progressive a woman named Octavia helped me get insurance through the 1-800 line yesterday and she was fantastic, give her a raise'}, {'text': '@progressive Join us, together we’ll #MakeEmailMarketingGreatAgain 🎆 https://t.co/gJhB0Uxpdf'}, {'text': '@Progressive https://t.co/xyZcNGnqfc'}, {'text': '@Progressive wow sad to hear  that you are in bed with George soros.'}, {'text': '@Progressive Customer Service in trying to make a payment online and by phone but both systems are down... https://t.co/VnWc7EKe1a'}, {'text': '@Progressive thank you for taking money out of my account, making me wait 10 days for a refund, then not sending when you said you would.'}, {'text': '@Progressive\\ninFutureWherePublicTransportationWillBeWellDevelopedAndPrivateCarsWillBeAutomaticallyDriven,ThereWillBeNoNeed4AutoInsurance.'}, {'text': '@PROGRESSIVE WHEN is it okay to leave a child on side of the road? apparently when  you are a progressive claims  adjuster'}, {'text': '@Progressive sooo do all your member have to wait 3 hours in the middle of the street and pay for their own tow #poorcustomers'}]}\n",
      "{'tweets': [{'text': '@usaa, other major #insurance firms to embrace #wearables in next 5 yrs: https://t.co/W2WubGtBqy @forbes #PAWWorkforce #peopleanalytics'}, {'text': '@USAA Please give us a place to deposit cash. There are hardly any cash depo machines in the country. Thx'}, {'text': '@USAA is a very good friend of mine'}, {'text': \"@USAA Unacceptable. I get a text about a fraud alert. Hundreds of dollars stolen from me and I'm told to wait over an hour on the phone?\"}, {'text': '@USAA @USAA_help Fraud dept has a 3hr hold time!  Help!'}, {'text': \"@USAA Any reason why USAA debit cards still don't have chips? Also, what's the hold up with @SamsungPayUS?\"}, {'text': \"@USAA &amp; @turbotax ... I love you both, but I think it's lousy how you both take the same exact fee off my tax return for e-filing. Not cool.\"}, {'text': \"@USAA @FoxNews You know things are bad when you end 15year relationship, transfer all your assets to another bank&amp;USAArep doesn't even ask.\"}, {'text': '@USAA you are crooks. You care little about your customers. \\n\\nWorst bank experience in my life.'}, {'text': '@USAA very surprised by the terrible service I just received over the phone.  Not typical of USAA.'}]}\n",
      "{'tweets': [{'text': '@StateFarm are you serious? Just straight up ignoring me?'}, {'text': '@StateFarm lost the business card from the recruiter with the party info.  Where/when is it again?'}, {'text': '@StateFarm: \"You ain\\'t got no rings.\" LOL 🏀'}, {'text': '@StateFarm \"ring\" commercial with Jordan and Garnett as the parents is pretty great'}, {'text': '@StateFarm how about avoid dangerous intersections?'}, {'text': '@StateFarm blocked, because your ad bucks are going towards @twitter political censorship agenda of Republicans'}, {'text': '@StateFarm was back in 2014, just the more we thought about it the more it made NO sense. Our rep is Edwin Young lll Cincinnati,no answers'}, {'text': '@StateFarm let me show you who you are putting in harms way by denying my flood claim. @oliviamunn @AaronRodgers12 https://t.co/JJN6SPivH0'}, {'text': '@StateFarm can you stop fucking changing my policy WITHOUT TELLING ME?! Every other week with you idiots!'}, {'text': \"@StateFarm how often do random people call you and ask what you're wearing?\"}]}\n",
      "{'tweets': [{'text': '@WeAreFarmers place your mobile app in a top 5 app list rate $ 100 million per placement'}, {'text': \"@WeAreFarmers @WLFHNTER do NOT go w/Farmers. We've been paying for 20 yrs, filed 1 small claim, got denied. Useless company.\"}, {'text': '@WeAreFarmers We filed one small claim in 20 years and it got denied. What are we paying insurance for?'}, {'text': '@WeAreFarmers @CoolTurtlesPoop I agree.'}, {'text': '@WeAreFarmers, love love love the deer in lights commercial'}, {'text': \"@WeAreFarmers Dishonesty &amp;  attitude of adjuster terrible. Let's see if FB/Twitter/Yelp/Snapchat helps get 100 people to drop you in 5 days\"}, {'text': '@WeAreFarmers terrible customer service'}, {'text': '@WeAreFarmers thanks for the acknowledgement. @StateFarm ignored my similar post. If I ever need insurance, Farmers it is!'}, {'text': \"@WeAreFarmers after these are placed on our vehicles, they end up on the street as liter. Let's keep it clean. https://t.co/ivzoqxjbCm\"}, {'text': \"@WeAreFarmers if ms cody followed nancy's example - she should be at home taking care of her man's babies ... https://t.co/49jDPci7lh\"}]}\n",
      "{'tweets': [{'text': '@Allstate I belive Allstate owes me money. I switched to Geico and saved lots of money'}, {'text': '@Allstate need mobile app pr my rates are $ 100 million per placement'}, {'text': '@Allstate \\nWhat, will this work for us?\\nDo you want to stay engaged?'}, {'text': '@Allstate #RealityRides pit stops in #Miami for #CalleOcho2016! Come try out the simulator! https://t.co/W49dobLNXK'}, {'text': '@Allstate blocked, because your ad bucks are going towards @twitter political censorship agenda.'}, {'text': '@Allstate \"Hope &amp; Change\" run out of electricity?!'}, {'text': \"@Allstate DST is not needed...you can't change time.\"}, {'text': '@Allstate sponsoring https://t.co/vs5hEFRI4T would enhance your image as being part of the solution https://t.co/W2OEztQMrD'}, {'text': \"@Allstate Claim rate insurance? Really? Now we have to pay for the incidentals of the accidentals? To me seems if we're paying for greed!\"}, {'text': '@Allstate is srsly amazing.'}]}\n",
      "{'tweets': [{'text': \"@GEICO Made an ad about how they're going to skip their own ad so I can watch my video. gg, geico. gg.\"}, {'text': '@GEICO hella lying ass, more like I spent 30% or more by switching to Geico...'}, {'text': '@GEICO @Allstate @Progressive @StateFarm @esurance did you submit underwriting to State that Ubers are ineligible? https://t.co/QCu5UV66h0'}, {'text': '@GEICO #AlumniDiscount'}, {'text': \"@GEICO ...why didn't you have Tarzan just _write it down_?\\n\\nBecause he would have...\\nDidn't know how to talk words...\"}, {'text': '@GEICO Tarzan is Lord of the Jungle. The Lion is King of the Jungle.'}, {'text': \"@GEICO 's customer service. So good I could cry 😭😭\"}, {'text': '@GEICO too many commercials on youtube makes me not want to ever deal with you for insurance'}, {'text': '@GEICO what the hell is a \"fact-laden truth\"???  Are facts not already true??  #badadvertising'}, {'text': '@GEICO Thanks for more commercial free @robinlundberg Keep it going'}]}\n",
      "{'tweets': [{'text': '@Progressive waited over 20 min on hold today to try to bundle auto + property... What gives? You want to sell or not'}, {'text': '@Progressive a woman named Octavia helped me get insurance through the 1-800 line yesterday and she was fantastic, give her a raise'}, {'text': '@progressive Join us, together we’ll #MakeEmailMarketingGreatAgain 🎆 https://t.co/gJhB0Uxpdf'}, {'text': '@Progressive https://t.co/xyZcNGnqfc'}, {'text': '@Progressive wow sad to hear  that you are in bed with George soros.'}, {'text': '@Progressive Customer Service in trying to make a payment online and by phone but both systems are down... https://t.co/VnWc7EKe1a'}, {'text': '@Progressive thank you for taking money out of my account, making me wait 10 days for a refund, then not sending when you said you would.'}, {'text': '@Progressive\\ninFutureWherePublicTransportationWillBeWellDevelopedAndPrivateCarsWillBeAutomaticallyDriven,ThereWillBeNoNeed4AutoInsurance.'}, {'text': '@PROGRESSIVE WHEN is it okay to leave a child on side of the road? apparently when  you are a progressive claims  adjuster'}, {'text': '@Progressive sooo do all your member have to wait 3 hours in the middle of the street and pay for their own tow #poorcustomers'}]}\n",
      "{'tweets': [{'text': '@usaa, other major #insurance firms to embrace #wearables in next 5 yrs: https://t.co/W2WubGtBqy @forbes #PAWWorkforce #peopleanalytics'}, {'text': '@USAA Please give us a place to deposit cash. There are hardly any cash depo machines in the country. Thx'}, {'text': '@USAA is a very good friend of mine'}, {'text': \"@USAA Unacceptable. I get a text about a fraud alert. Hundreds of dollars stolen from me and I'm told to wait over an hour on the phone?\"}, {'text': '@USAA @USAA_help Fraud dept has a 3hr hold time!  Help!'}, {'text': \"@USAA Any reason why USAA debit cards still don't have chips? Also, what's the hold up with @SamsungPayUS?\"}, {'text': \"@USAA &amp; @turbotax ... I love you both, but I think it's lousy how you both take the same exact fee off my tax return for e-filing. Not cool.\"}, {'text': \"@USAA @FoxNews You know things are bad when you end 15year relationship, transfer all your assets to another bank&amp;USAArep doesn't even ask.\"}, {'text': '@USAA you are crooks. You care little about your customers. \\n\\nWorst bank experience in my life.'}, {'text': '@USAA very surprised by the terrible service I just received over the phone.  Not typical of USAA.'}]}\n",
      "{'tweets': [{'text': '@StateFarm are you serious? Just straight up ignoring me?'}, {'text': '@StateFarm lost the business card from the recruiter with the party info.  Where/when is it again?'}, {'text': '@StateFarm: \"You ain\\'t got no rings.\" LOL 🏀'}, {'text': '@StateFarm \"ring\" commercial with Jordan and Garnett as the parents is pretty great'}, {'text': '@StateFarm how about avoid dangerous intersections?'}, {'text': '@StateFarm blocked, because your ad bucks are going towards @twitter political censorship agenda of Republicans'}, {'text': '@StateFarm was back in 2014, just the more we thought about it the more it made NO sense. Our rep is Edwin Young lll Cincinnati,no answers'}, {'text': '@StateFarm let me show you who you are putting in harms way by denying my flood claim. @oliviamunn @AaronRodgers12 https://t.co/JJN6SPivH0'}, {'text': '@StateFarm can you stop fucking changing my policy WITHOUT TELLING ME?! Every other week with you idiots!'}, {'text': \"@StateFarm how often do random people call you and ask what you're wearing?\"}]}\n",
      "{'tweets': [{'text': '@WeAreFarmers place your mobile app in a top 5 app list rate $ 100 million per placement'}, {'text': \"@WeAreFarmers @WLFHNTER do NOT go w/Farmers. We've been paying for 20 yrs, filed 1 small claim, got denied. Useless company.\"}, {'text': '@WeAreFarmers We filed one small claim in 20 years and it got denied. What are we paying insurance for?'}, {'text': '@WeAreFarmers @CoolTurtlesPoop I agree.'}, {'text': '@WeAreFarmers, love love love the deer in lights commercial'}, {'text': \"@WeAreFarmers Dishonesty &amp;  attitude of adjuster terrible. Let's see if FB/Twitter/Yelp/Snapchat helps get 100 people to drop you in 5 days\"}, {'text': '@WeAreFarmers terrible customer service'}, {'text': '@WeAreFarmers thanks for the acknowledgement. @StateFarm ignored my similar post. If I ever need insurance, Farmers it is!'}, {'text': \"@WeAreFarmers after these are placed on our vehicles, they end up on the street as liter. Let's keep it clean. https://t.co/ivzoqxjbCm\"}, {'text': \"@WeAreFarmers if ms cody followed nancy's example - she should be at home taking care of her man's babies ... https://t.co/49jDPci7lh\"}]}\n",
      "{'tweets': [{'text': '@Allstate I belive Allstate owes me money. I switched to Geico and saved lots of money'}, {'text': '@Allstate need mobile app pr my rates are $ 100 million per placement'}, {'text': '@Allstate \\nWhat, will this work for us?\\nDo you want to stay engaged?'}, {'text': '@Allstate #RealityRides pit stops in #Miami for #CalleOcho2016! Come try out the simulator! https://t.co/W49dobLNXK'}, {'text': '@Allstate blocked, because your ad bucks are going towards @twitter political censorship agenda.'}, {'text': '@Allstate \"Hope &amp; Change\" run out of electricity?!'}, {'text': \"@Allstate DST is not needed...you can't change time.\"}, {'text': '@Allstate sponsoring https://t.co/vs5hEFRI4T would enhance your image as being part of the solution https://t.co/W2OEztQMrD'}, {'text': \"@Allstate Claim rate insurance? Really? Now we have to pay for the incidentals of the accidentals? To me seems if we're paying for greed!\"}, {'text': '@Allstate is srsly amazing.'}]}\n",
      "{'tweets': [{'text': \"@GEICO Made an ad about how they're going to skip their own ad so I can watch my video. gg, geico. gg.\"}, {'text': '@GEICO hella lying ass, more like I spent 30% or more by switching to Geico...'}, {'text': '@GEICO @Allstate @Progressive @StateFarm @esurance did you submit underwriting to State that Ubers are ineligible? https://t.co/QCu5UV66h0'}, {'text': '@GEICO #AlumniDiscount'}, {'text': \"@GEICO ...why didn't you have Tarzan just _write it down_?\\n\\nBecause he would have...\\nDidn't know how to talk words...\"}, {'text': '@GEICO Tarzan is Lord of the Jungle. The Lion is King of the Jungle.'}, {'text': \"@GEICO 's customer service. So good I could cry 😭😭\"}, {'text': '@GEICO too many commercials on youtube makes me not want to ever deal with you for insurance'}, {'text': '@GEICO what the hell is a \"fact-laden truth\"???  Are facts not already true??  #badadvertising'}, {'text': '@GEICO Thanks for more commercial free @robinlundberg Keep it going'}]}\n",
      "{'tweets': [{'text': '@Progressive waited over 20 min on hold today to try to bundle auto + property... What gives? You want to sell or not'}, {'text': '@Progressive a woman named Octavia helped me get insurance through the 1-800 line yesterday and she was fantastic, give her a raise'}, {'text': '@progressive Join us, together we’ll #MakeEmailMarketingGreatAgain 🎆 https://t.co/gJhB0Uxpdf'}, {'text': '@Progressive https://t.co/xyZcNGnqfc'}, {'text': '@Progressive wow sad to hear  that you are in bed with George soros.'}, {'text': '@Progressive Customer Service in trying to make a payment online and by phone but both systems are down... https://t.co/VnWc7EKe1a'}, {'text': '@Progressive thank you for taking money out of my account, making me wait 10 days for a refund, then not sending when you said you would.'}, {'text': '@Progressive\\ninFutureWherePublicTransportationWillBeWellDevelopedAndPrivateCarsWillBeAutomaticallyDriven,ThereWillBeNoNeed4AutoInsurance.'}, {'text': '@PROGRESSIVE WHEN is it okay to leave a child on side of the road? apparently when  you are a progressive claims  adjuster'}, {'text': '@Progressive sooo do all your member have to wait 3 hours in the middle of the street and pay for their own tow #poorcustomers'}]}\n",
      "{'tweets': [{'text': '@usaa, other major #insurance firms to embrace #wearables in next 5 yrs: https://t.co/W2WubGtBqy @forbes #PAWWorkforce #peopleanalytics'}, {'text': '@USAA Please give us a place to deposit cash. There are hardly any cash depo machines in the country. Thx'}, {'text': '@USAA is a very good friend of mine'}, {'text': \"@USAA Unacceptable. I get a text about a fraud alert. Hundreds of dollars stolen from me and I'm told to wait over an hour on the phone?\"}, {'text': '@USAA @USAA_help Fraud dept has a 3hr hold time!  Help!'}, {'text': \"@USAA Any reason why USAA debit cards still don't have chips? Also, what's the hold up with @SamsungPayUS?\"}, {'text': \"@USAA &amp; @turbotax ... I love you both, but I think it's lousy how you both take the same exact fee off my tax return for e-filing. Not cool.\"}, {'text': \"@USAA @FoxNews You know things are bad when you end 15year relationship, transfer all your assets to another bank&amp;USAArep doesn't even ask.\"}, {'text': '@USAA you are crooks. You care little about your customers. \\n\\nWorst bank experience in my life.'}, {'text': '@USAA very surprised by the terrible service I just received over the phone.  Not typical of USAA.'}]}\n",
      "{'tweets': [{'text': '@StateFarm are you serious? Just straight up ignoring me?'}, {'text': '@StateFarm lost the business card from the recruiter with the party info.  Where/when is it again?'}, {'text': '@StateFarm: \"You ain\\'t got no rings.\" LOL 🏀'}, {'text': '@StateFarm \"ring\" commercial with Jordan and Garnett as the parents is pretty great'}, {'text': '@StateFarm how about avoid dangerous intersections?'}, {'text': '@StateFarm blocked, because your ad bucks are going towards @twitter political censorship agenda of Republicans'}, {'text': '@StateFarm was back in 2014, just the more we thought about it the more it made NO sense. Our rep is Edwin Young lll Cincinnati,no answers'}, {'text': '@StateFarm let me show you who you are putting in harms way by denying my flood claim. @oliviamunn @AaronRodgers12 https://t.co/JJN6SPivH0'}, {'text': '@StateFarm can you stop fucking changing my policy WITHOUT TELLING ME?! Every other week with you idiots!'}, {'text': \"@StateFarm how often do random people call you and ask what you're wearing?\"}]}\n",
      "{'tweets': [{'text': '@WeAreFarmers place your mobile app in a top 5 app list rate $ 100 million per placement'}, {'text': \"@WeAreFarmers @WLFHNTER do NOT go w/Farmers. We've been paying for 20 yrs, filed 1 small claim, got denied. Useless company.\"}, {'text': '@WeAreFarmers We filed one small claim in 20 years and it got denied. What are we paying insurance for?'}, {'text': '@WeAreFarmers @CoolTurtlesPoop I agree.'}, {'text': '@WeAreFarmers, love love love the deer in lights commercial'}, {'text': \"@WeAreFarmers Dishonesty &amp;  attitude of adjuster terrible. Let's see if FB/Twitter/Yelp/Snapchat helps get 100 people to drop you in 5 days\"}, {'text': '@WeAreFarmers terrible customer service'}, {'text': '@WeAreFarmers thanks for the acknowledgement. @StateFarm ignored my similar post. If I ever need insurance, Farmers it is!'}, {'text': \"@WeAreFarmers after these are placed on our vehicles, they end up on the street as liter. Let's keep it clean. https://t.co/ivzoqxjbCm\"}, {'text': \"@WeAreFarmers if ms cody followed nancy's example - she should be at home taking care of her man's babies ... https://t.co/49jDPci7lh\"}]}\n",
      "{'tweets': [{'text': '@Allstate I belive Allstate owes me money. I switched to Geico and saved lots of money'}, {'text': '@Allstate need mobile app pr my rates are $ 100 million per placement'}, {'text': '@Allstate \\nWhat, will this work for us?\\nDo you want to stay engaged?'}, {'text': '@Allstate #RealityRides pit stops in #Miami for #CalleOcho2016! Come try out the simulator! https://t.co/W49dobLNXK'}, {'text': '@Allstate blocked, because your ad bucks are going towards @twitter political censorship agenda.'}, {'text': '@Allstate \"Hope &amp; Change\" run out of electricity?!'}, {'text': \"@Allstate DST is not needed...you can't change time.\"}, {'text': '@Allstate sponsoring https://t.co/vs5hEFRI4T would enhance your image as being part of the solution https://t.co/W2OEztQMrD'}, {'text': \"@Allstate Claim rate insurance? Really? Now we have to pay for the incidentals of the accidentals? To me seems if we're paying for greed!\"}, {'text': '@Allstate is srsly amazing.'}]}\n",
      "{'tweets': [{'text': \"@GEICO Made an ad about how they're going to skip their own ad so I can watch my video. gg, geico. gg.\"}, {'text': '@GEICO hella lying ass, more like I spent 30% or more by switching to Geico...'}, {'text': '@GEICO @Allstate @Progressive @StateFarm @esurance did you submit underwriting to State that Ubers are ineligible? https://t.co/QCu5UV66h0'}, {'text': '@GEICO #AlumniDiscount'}, {'text': \"@GEICO ...why didn't you have Tarzan just _write it down_?\\n\\nBecause he would have...\\nDidn't know how to talk words...\"}, {'text': '@GEICO Tarzan is Lord of the Jungle. The Lion is King of the Jungle.'}, {'text': \"@GEICO 's customer service. So good I could cry 😭😭\"}, {'text': '@GEICO too many commercials on youtube makes me not want to ever deal with you for insurance'}, {'text': '@GEICO what the hell is a \"fact-laden truth\"???  Are facts not already true??  #badadvertising'}, {'text': '@GEICO Thanks for more commercial free @robinlundberg Keep it going'}]}\n",
      "{'tweets': [{'text': '@Progressive waited over 20 min on hold today to try to bundle auto + property... What gives? You want to sell or not'}, {'text': '@Progressive a woman named Octavia helped me get insurance through the 1-800 line yesterday and she was fantastic, give her a raise'}, {'text': '@progressive Join us, together we’ll #MakeEmailMarketingGreatAgain 🎆 https://t.co/gJhB0Uxpdf'}, {'text': '@Progressive https://t.co/xyZcNGnqfc'}, {'text': '@Progressive wow sad to hear  that you are in bed with George soros.'}, {'text': '@Progressive Customer Service in trying to make a payment online and by phone but both systems are down... https://t.co/VnWc7EKe1a'}, {'text': '@Progressive thank you for taking money out of my account, making me wait 10 days for a refund, then not sending when you said you would.'}, {'text': '@Progressive\\ninFutureWherePublicTransportationWillBeWellDevelopedAndPrivateCarsWillBeAutomaticallyDriven,ThereWillBeNoNeed4AutoInsurance.'}, {'text': '@PROGRESSIVE WHEN is it okay to leave a child on side of the road? apparently when  you are a progressive claims  adjuster'}, {'text': '@Progressive sooo do all your member have to wait 3 hours in the middle of the street and pay for their own tow #poorcustomers'}]}\n",
      "{'tweets': [{'text': '@usaa, other major #insurance firms to embrace #wearables in next 5 yrs: https://t.co/W2WubGtBqy @forbes #PAWWorkforce #peopleanalytics'}, {'text': '@USAA Please give us a place to deposit cash. There are hardly any cash depo machines in the country. Thx'}, {'text': '@USAA is a very good friend of mine'}, {'text': \"@USAA Unacceptable. I get a text about a fraud alert. Hundreds of dollars stolen from me and I'm told to wait over an hour on the phone?\"}, {'text': '@USAA @USAA_help Fraud dept has a 3hr hold time!  Help!'}, {'text': \"@USAA Any reason why USAA debit cards still don't have chips? Also, what's the hold up with @SamsungPayUS?\"}, {'text': \"@USAA &amp; @turbotax ... I love you both, but I think it's lousy how you both take the same exact fee off my tax return for e-filing. Not cool.\"}, {'text': \"@USAA @FoxNews You know things are bad when you end 15year relationship, transfer all your assets to another bank&amp;USAArep doesn't even ask.\"}, {'text': '@USAA you are crooks. You care little about your customers. \\n\\nWorst bank experience in my life.'}, {'text': '@USAA very surprised by the terrible service I just received over the phone.  Not typical of USAA.'}]}\n",
      "{'tweets': [{'text': '@StateFarm are you serious? Just straight up ignoring me?'}, {'text': '@StateFarm lost the business card from the recruiter with the party info.  Where/when is it again?'}, {'text': '@StateFarm: \"You ain\\'t got no rings.\" LOL 🏀'}, {'text': '@StateFarm \"ring\" commercial with Jordan and Garnett as the parents is pretty great'}, {'text': '@StateFarm how about avoid dangerous intersections?'}, {'text': '@StateFarm blocked, because your ad bucks are going towards @twitter political censorship agenda of Republicans'}, {'text': '@StateFarm was back in 2014, just the more we thought about it the more it made NO sense. Our rep is Edwin Young lll Cincinnati,no answers'}, {'text': '@StateFarm let me show you who you are putting in harms way by denying my flood claim. @oliviamunn @AaronRodgers12 https://t.co/JJN6SPivH0'}, {'text': '@StateFarm can you stop fucking changing my policy WITHOUT TELLING ME?! Every other week with you idiots!'}, {'text': \"@StateFarm how often do random people call you and ask what you're wearing?\"}]}\n",
      "{'tweets': [{'text': '@WeAreFarmers place your mobile app in a top 5 app list rate $ 100 million per placement'}, {'text': \"@WeAreFarmers @WLFHNTER do NOT go w/Farmers. We've been paying for 20 yrs, filed 1 small claim, got denied. Useless company.\"}, {'text': '@WeAreFarmers We filed one small claim in 20 years and it got denied. What are we paying insurance for?'}, {'text': '@WeAreFarmers @CoolTurtlesPoop I agree.'}, {'text': '@WeAreFarmers, love love love the deer in lights commercial'}, {'text': \"@WeAreFarmers Dishonesty &amp;  attitude of adjuster terrible. Let's see if FB/Twitter/Yelp/Snapchat helps get 100 people to drop you in 5 days\"}, {'text': '@WeAreFarmers terrible customer service'}, {'text': '@WeAreFarmers thanks for the acknowledgement. @StateFarm ignored my similar post. If I ever need insurance, Farmers it is!'}, {'text': \"@WeAreFarmers after these are placed on our vehicles, they end up on the street as liter. Let's keep it clean. https://t.co/ivzoqxjbCm\"}, {'text': \"@WeAreFarmers if ms cody followed nancy's example - she should be at home taking care of her man's babies ... https://t.co/49jDPci7lh\"}]}\n",
      "{'tweets': [{'text': '@Allstate I belive Allstate owes me money. I switched to Geico and saved lots of money'}, {'text': '@Allstate need mobile app pr my rates are $ 100 million per placement'}, {'text': '@Allstate \\nWhat, will this work for us?\\nDo you want to stay engaged?'}, {'text': '@Allstate #RealityRides pit stops in #Miami for #CalleOcho2016! Come try out the simulator! https://t.co/W49dobLNXK'}, {'text': '@Allstate blocked, because your ad bucks are going towards @twitter political censorship agenda.'}, {'text': '@Allstate \"Hope &amp; Change\" run out of electricity?!'}, {'text': \"@Allstate DST is not needed...you can't change time.\"}, {'text': '@Allstate sponsoring https://t.co/vs5hEFRI4T would enhance your image as being part of the solution https://t.co/W2OEztQMrD'}, {'text': \"@Allstate Claim rate insurance? Really? Now we have to pay for the incidentals of the accidentals? To me seems if we're paying for greed!\"}, {'text': '@Allstate is srsly amazing.'}]}\n",
      "{'tweets': [{'text': \"@GEICO Made an ad about how they're going to skip their own ad so I can watch my video. gg, geico. gg.\"}, {'text': '@GEICO hella lying ass, more like I spent 30% or more by switching to Geico...'}, {'text': '@GEICO @Allstate @Progressive @StateFarm @esurance did you submit underwriting to State that Ubers are ineligible? https://t.co/QCu5UV66h0'}, {'text': '@GEICO #AlumniDiscount'}, {'text': \"@GEICO ...why didn't you have Tarzan just _write it down_?\\n\\nBecause he would have...\\nDidn't know how to talk words...\"}, {'text': '@GEICO Tarzan is Lord of the Jungle. The Lion is King of the Jungle.'}, {'text': \"@GEICO 's customer service. So good I could cry 😭😭\"}, {'text': '@GEICO too many commercials on youtube makes me not want to ever deal with you for insurance'}, {'text': '@GEICO what the hell is a \"fact-laden truth\"???  Are facts not already true??  #badadvertising'}, {'text': '@GEICO Thanks for more commercial free @robinlundberg Keep it going'}]}\n",
      "{'tweets': [{'text': '@Progressive waited over 20 min on hold today to try to bundle auto + property... What gives? You want to sell or not'}, {'text': '@Progressive a woman named Octavia helped me get insurance through the 1-800 line yesterday and she was fantastic, give her a raise'}, {'text': '@progressive Join us, together we’ll #MakeEmailMarketingGreatAgain 🎆 https://t.co/gJhB0Uxpdf'}, {'text': '@Progressive https://t.co/xyZcNGnqfc'}, {'text': '@Progressive wow sad to hear  that you are in bed with George soros.'}, {'text': '@Progressive Customer Service in trying to make a payment online and by phone but both systems are down... https://t.co/VnWc7EKe1a'}, {'text': '@Progressive thank you for taking money out of my account, making me wait 10 days for a refund, then not sending when you said you would.'}, {'text': '@Progressive\\ninFutureWherePublicTransportationWillBeWellDevelopedAndPrivateCarsWillBeAutomaticallyDriven,ThereWillBeNoNeed4AutoInsurance.'}, {'text': '@PROGRESSIVE WHEN is it okay to leave a child on side of the road? apparently when  you are a progressive claims  adjuster'}, {'text': '@Progressive sooo do all your member have to wait 3 hours in the middle of the street and pay for their own tow #poorcustomers'}]}\n",
      "Manual Break by User\n"
     ]
    }
   ],
   "source": [
    "__main__()"
   ]
  },
  {
   "cell_type": "code",
   "execution_count": null,
   "metadata": {},
   "outputs": [],
   "source": [
    ""
   ]
  }
 ],
 "metadata": {
  "kernelspec": {
   "display_name": "Python 3",
   "language": "python",
   "name": "python3"
  },
  "language_info": {
   "codemirror_mode": {
    "name": "ipython",
    "version": 3.0
   },
   "file_extension": ".py",
   "mimetype": "text/x-python",
   "name": "python",
   "nbconvert_exporter": "python",
   "pygments_lexer": "ipython3",
   "version": "3.5.1"
  }
 },
 "nbformat": 4,
 "nbformat_minor": 0
}